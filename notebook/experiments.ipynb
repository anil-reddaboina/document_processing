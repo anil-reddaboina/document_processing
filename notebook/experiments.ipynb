{
 "cells": [
  {
   "cell_type": "code",
   "execution_count": 2,
   "metadata": {},
   "outputs": [
    {
     "name": "stdout",
     "output_type": "stream",
     "text": [
      "hello\n"
     ]
    }
   ],
   "source": [
    "print(\"hello\")"
   ]
  },
  {
   "cell_type": "code",
   "execution_count": 3,
   "metadata": {},
   "outputs": [
    {
     "name": "stdout",
     "output_type": "stream",
     "text": [
      "Package                      Version     Editable project location\n",
      "---------------------------- ----------- ------------------------------------------------------------\n",
      "annotated-types              0.7.0\n",
      "anyio                        4.9.0\n",
      "appnope                      0.1.4\n",
      "asttokens                    3.0.0\n",
      "async-timeout                4.0.3\n",
      "cachetools                   5.5.2\n",
      "certifi                      2025.7.14\n",
      "charset-normalizer           3.4.2\n",
      "comm                         0.2.2\n",
      "debugpy                      1.8.7\n",
      "decorator                    5.2.1\n",
      "distro                       1.9.0\n",
      "documentation-generator      0.1.0       /Users/admin/anil_reddaboina/ai_learning/document_processing\n",
      "exceptiongroup               1.3.0\n",
      "executing                    2.2.0\n",
      "filetype                     1.2.0\n",
      "google-ai-generativelanguage 0.6.18\n",
      "google-api-core              2.25.1\n",
      "google-auth                  2.40.3\n",
      "googleapis-common-protos     1.70.0\n",
      "greenlet                     3.2.3\n",
      "groq                         0.30.0\n",
      "grpcio                       1.73.1\n",
      "grpcio-status                1.73.1\n",
      "h11                          0.16.0\n",
      "httpcore                     1.0.9\n",
      "httpx                        0.28.1\n",
      "idna                         3.10\n",
      "importlib_metadata           8.7.0\n",
      "ipykernel                    6.29.5\n",
      "ipython                      8.37.0\n",
      "jedi                         0.19.2\n",
      "jsonpatch                    1.33\n",
      "jsonpointer                  3.0.0\n",
      "jupyter_client               8.6.3\n",
      "jupyter_core                 5.8.1\n",
      "langchain                    0.3.26\n",
      "langchain-core               0.3.69\n",
      "langchain-google-genai       2.1.8\n",
      "langchain-groq               0.3.6\n",
      "langchain-text-splitters     0.3.8\n",
      "langsmith                    0.4.8\n",
      "matplotlib-inline            0.1.7\n",
      "nest_asyncio                 1.6.0\n",
      "orjson                       3.11.0\n",
      "packaging                    25.0\n",
      "parso                        0.8.4\n",
      "pexpect                      4.9.0\n",
      "pickleshare                  0.7.5\n",
      "pip                          25.1\n",
      "platformdirs                 4.3.8\n",
      "prompt_toolkit               3.0.51\n",
      "proto-plus                   1.26.1\n",
      "protobuf                     6.31.1\n",
      "psutil                       7.0.0\n",
      "ptyprocess                   0.7.0\n",
      "pure_eval                    0.2.3\n",
      "pyasn1                       0.6.1\n",
      "pyasn1_modules               0.4.2\n",
      "pydantic                     2.11.7\n",
      "pydantic_core                2.33.2\n",
      "Pygments                     2.19.2\n",
      "python-dateutil              2.9.0.post0\n",
      "python-dotenv                1.1.1\n",
      "PyYAML                       6.0.2\n",
      "pyzmq                        26.2.0\n",
      "requests                     2.32.4\n",
      "requests-toolbelt            1.0.0\n",
      "rsa                          4.9.1\n",
      "setuptools                   78.1.1\n",
      "six                          1.17.0\n",
      "sniffio                      1.3.1\n",
      "SQLAlchemy                   2.0.41\n",
      "stack_data                   0.6.3\n",
      "tenacity                     9.1.2\n",
      "tornado                      6.5.1\n",
      "traitlets                    5.14.3\n",
      "typing_extensions            4.14.1\n",
      "typing-inspection            0.4.1\n",
      "urllib3                      2.5.0\n",
      "wcwidth                      0.2.13\n",
      "wheel                        0.45.1\n",
      "zipp                         3.23.0\n",
      "zstandard                    0.23.0\n",
      "Note: you may need to restart the kernel to use updated packages.\n"
     ]
    }
   ],
   "source": [
    "pip list"
   ]
  },
  {
   "cell_type": "code",
   "execution_count": 4,
   "metadata": {},
   "outputs": [],
   "source": [
    "from langchain_groq import ChatGroq\n"
   ]
  },
  {
   "cell_type": "code",
   "execution_count": 5,
   "metadata": {},
   "outputs": [],
   "source": [
    "from dotenv import load_dotenv"
   ]
  },
  {
   "cell_type": "code",
   "execution_count": 6,
   "metadata": {},
   "outputs": [
    {
     "data": {
      "text/plain": [
       "True"
      ]
     },
     "execution_count": 6,
     "metadata": {},
     "output_type": "execute_result"
    }
   ],
   "source": [
    "load_dotenv()"
   ]
  },
  {
   "cell_type": "code",
   "execution_count": 7,
   "metadata": {},
   "outputs": [],
   "source": [
    "model = ChatGroq(model=\"qwen/qwen3-32b\")"
   ]
  },
  {
   "cell_type": "code",
   "execution_count": 8,
   "metadata": {},
   "outputs": [
    {
     "data": {
      "text/plain": [
       "AIMessage(content=\"<think>\\nLet me process this question carefully. As a conversational AI, I need to provide an accurate yet approachable self-introduction. First, I should explain my fundamental nature - being an AI assistant developed by Alibaba Cloud. Then, I can mention my capabilities in areas like answering questions and creating content. It's important to highlight my multilingual support since that's a key feature. I should also mention my training data cutoff date to set realistic expectations about my knowledge. Let me structure this response to be informative yet easy to understand, while maintaining a friendly and helpful tone. I want to make sure the user feels comfortable asking follow-up questions after this introduction.\\n</think>\\n\\nI am Qwen, a large language model developed by Alibaba Cloud. I'm designed to assist with a wide range of tasks, including answering questions, writing stories, emails, scripts, performing logical reasoning, coding, and more. I can also express opinions and play games. My training data is up to December 2024, so I have knowledge of events and information up to that point. I support multiple languages, including but not limited to Chinese, English, German, French, Spanish, and I can switch between them as needed. How can I assist you today?\", additional_kwargs={}, response_metadata={'token_usage': {'completion_tokens': 253, 'prompt_tokens': 12, 'total_tokens': 265, 'completion_time': 0.671682379, 'prompt_time': 0.000244426, 'queue_time': 0.049901229, 'total_time': 0.671926805}, 'model_name': 'qwen/qwen3-32b', 'system_fingerprint': 'fp_f17c2eb555', 'service_tier': 'on_demand', 'finish_reason': 'stop', 'logprobs': None}, id='run--292a96c7-293d-4e48-b90a-d23d772b8e3d-0', usage_metadata={'input_tokens': 12, 'output_tokens': 253, 'total_tokens': 265})"
      ]
     },
     "execution_count": 8,
     "metadata": {},
     "output_type": "execute_result"
    }
   ],
   "source": [
    "model.invoke(\"who are you \")"
   ]
  },
  {
   "cell_type": "code",
   "execution_count": 9,
   "metadata": {},
   "outputs": [],
   "source": [
    "from langchain_google_genai import GoogleGenerativeAIEmbeddings"
   ]
  },
  {
   "cell_type": "code",
   "execution_count": 14,
   "metadata": {},
   "outputs": [],
   "source": [
    "embedding_model=GoogleGenerativeAIEmbeddings(model=\"models/embedding-001\")"
   ]
  },
  {
   "cell_type": "code",
   "execution_count": null,
   "metadata": {},
   "outputs": [],
   "source": [
    "embedding_model.embed_query(\"What is the capital of France?\")"
   ]
  }
 ],
 "metadata": {
  "kernelspec": {
   "display_name": "Python 3",
   "language": "python",
   "name": "python3"
  },
  "language_info": {
   "codemirror_mode": {
    "name": "ipython",
    "version": 3
   },
   "file_extension": ".py",
   "mimetype": "text/x-python",
   "name": "python",
   "nbconvert_exporter": "python",
   "pygments_lexer": "ipython3",
   "version": "3.10.18"
  }
 },
 "nbformat": 4,
 "nbformat_minor": 2
}
