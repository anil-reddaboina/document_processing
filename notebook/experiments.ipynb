{
 "cells": [
  {
   "cell_type": "code",
   "execution_count": 2,
   "metadata": {},
   "outputs": [
    {
     "name": "stdout",
     "output_type": "stream",
     "text": [
      "hello\n"
     ]
    }
   ],
   "source": [
    "print(\"hello\")"
   ]
  },
  {
   "cell_type": "code",
   "execution_count": 6,
   "metadata": {},
   "outputs": [
    {
     "name": "stdout",
     "output_type": "stream",
     "text": [
      "Package                  Version     Editable project location\n",
      "------------------------ ----------- ------------------------------------------------------------\n",
      "annotated-types          0.7.0\n",
      "anyio                    4.9.0\n",
      "appnope                  0.1.4\n",
      "asttokens                3.0.0\n",
      "async-timeout            4.0.3\n",
      "certifi                  2025.7.14\n",
      "charset-normalizer       3.4.2\n",
      "comm                     0.2.2\n",
      "debugpy                  1.8.7\n",
      "decorator                5.2.1\n",
      "distro                   1.9.0\n",
      "documentation-generator  0.1.0       /Users/admin/anil_reddaboina/ai_learning/document_processing\n",
      "exceptiongroup           1.3.0\n",
      "executing                2.2.0\n",
      "greenlet                 3.2.3\n",
      "groq                     0.30.0\n",
      "h11                      0.16.0\n",
      "httpcore                 1.0.9\n",
      "httpx                    0.28.1\n",
      "idna                     3.10\n",
      "importlib_metadata       8.7.0\n",
      "ipykernel                6.29.5\n",
      "ipython                  8.37.0\n",
      "jedi                     0.19.2\n",
      "jsonpatch                1.33\n",
      "jsonpointer              3.0.0\n",
      "jupyter_client           8.6.3\n",
      "jupyter_core             5.8.1\n",
      "langchain                0.3.26\n",
      "langchain-core           0.3.69\n",
      "langchain-groq           0.3.6\n",
      "langchain-text-splitters 0.3.8\n",
      "langsmith                0.4.8\n",
      "matplotlib-inline        0.1.7\n",
      "nest_asyncio             1.6.0\n",
      "orjson                   3.11.0\n",
      "packaging                25.0\n",
      "parso                    0.8.4\n",
      "pexpect                  4.9.0\n",
      "pickleshare              0.7.5\n",
      "pip                      25.1\n",
      "platformdirs             4.3.8\n",
      "prompt_toolkit           3.0.51\n",
      "psutil                   7.0.0\n",
      "ptyprocess               0.7.0\n",
      "pure_eval                0.2.3\n",
      "pydantic                 2.11.7\n",
      "pydantic_core            2.33.2\n",
      "Pygments                 2.19.2\n",
      "python-dateutil          2.9.0.post0\n",
      "python-dotenv            1.1.1\n",
      "PyYAML                   6.0.2\n",
      "pyzmq                    26.2.0\n",
      "requests                 2.32.4\n",
      "requests-toolbelt        1.0.0\n",
      "setuptools               78.1.1\n",
      "six                      1.17.0\n",
      "sniffio                  1.3.1\n",
      "SQLAlchemy               2.0.41\n",
      "stack_data               0.6.3\n",
      "tenacity                 9.1.2\n",
      "tornado                  6.5.1\n",
      "traitlets                5.14.3\n",
      "typing_extensions        4.14.1\n",
      "typing-inspection        0.4.1\n",
      "urllib3                  2.5.0\n",
      "wcwidth                  0.2.13\n",
      "wheel                    0.45.1\n",
      "zipp                     3.23.0\n",
      "zstandard                0.23.0\n",
      "Note: you may need to restart the kernel to use updated packages.\n"
     ]
    }
   ],
   "source": [
    "pip list"
   ]
  },
  {
   "cell_type": "code",
   "execution_count": 9,
   "metadata": {},
   "outputs": [],
   "source": [
    "from langchain_groq import ChatGroq\n"
   ]
  },
  {
   "cell_type": "code",
   "execution_count": 10,
   "metadata": {},
   "outputs": [],
   "source": [
    "from dotenv import load_dotenv"
   ]
  },
  {
   "cell_type": "code",
   "execution_count": 11,
   "metadata": {},
   "outputs": [
    {
     "data": {
      "text/plain": [
       "True"
      ]
     },
     "execution_count": 11,
     "metadata": {},
     "output_type": "execute_result"
    }
   ],
   "source": [
    "load_dotenv()"
   ]
  },
  {
   "cell_type": "code",
   "execution_count": 12,
   "metadata": {},
   "outputs": [],
   "source": [
    "model = ChatGroq(model=\"qwen/qwen3-32b\")"
   ]
  },
  {
   "cell_type": "code",
   "execution_count": null,
   "metadata": {},
   "outputs": [],
   "source": [
    "model.invoke("
   ]
  }
 ],
 "metadata": {
  "kernelspec": {
   "display_name": "ailearning",
   "language": "python",
   "name": "python3"
  },
  "language_info": {
   "codemirror_mode": {
    "name": "ipython",
    "version": 3
   },
   "file_extension": ".py",
   "mimetype": "text/x-python",
   "name": "python",
   "nbconvert_exporter": "python",
   "pygments_lexer": "ipython3",
   "version": "3.10.18"
  }
 },
 "nbformat": 4,
 "nbformat_minor": 2
}
