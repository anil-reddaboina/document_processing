{
 "cells": [
  {
   "cell_type": "code",
   "execution_count": 2,
   "metadata": {},
   "outputs": [
    {
     "name": "stdout",
     "output_type": "stream",
     "text": [
      "hello\n"
     ]
    }
   ],
   "source": [
    "print(\"hello\")"
   ]
  },
  {
   "cell_type": "code",
   "execution_count": null,
   "metadata": {},
   "outputs": [],
   "source": [
    "pip list"
   ]
  },
  {
   "cell_type": "code",
   "execution_count": 4,
   "metadata": {},
   "outputs": [],
   "source": [
    "from langchain_groq import ChatGroq"
   ]
  },
  {
   "cell_type": "code",
   "execution_count": 5,
   "metadata": {},
   "outputs": [],
   "source": [
    "from dotenv import load_dotenv"
   ]
  },
  {
   "cell_type": "code",
   "execution_count": 6,
   "metadata": {},
   "outputs": [
    {
     "data": {
      "text/plain": [
       "True"
      ]
     },
     "execution_count": 6,
     "metadata": {},
     "output_type": "execute_result"
    }
   ],
   "source": [
    "load_dotenv()"
   ]
  },
  {
   "cell_type": "code",
   "execution_count": 7,
   "metadata": {},
   "outputs": [],
   "source": [
    "model = ChatGroq(model=\"qwen/qwen3-32b\")"
   ]
  },
  {
   "cell_type": "code",
   "execution_count": 8,
   "metadata": {},
   "outputs": [
    {
     "data": {
      "text/plain": [
       "AIMessage(content='<think>\\nOkay, so I need to figure out what the capital of Telangana is. Let me start by recalling what I know about Indian states. Telangana is one of the states in India, right? I remember that it\\'s a relatively new state, having been formed in 2014 when it was carved out from Andhra Pradesh. So maybe the capital is a city that was previously part of Andhra Pradesh\\'s capital?\\n\\nWait, the capital of Andhra Pradesh is Amaravati, if I\\'m not mistaken. But when Telangana became a separate state, they might have chosen a different capital. I think Hyderabad is a major city in the region. Hyderabad is known for being a hub for IT companies and is a significant cultural and economic center. But was it the capital before Telangana became a state?\\n\\nLet me think. Before 2014, Hyderabad was the capital of the united Andhra Pradesh. When Telangana was separated, there was some discussion about whether Hyderabad would be the capital of Telangana or if a new capital would be built. I remember reading that there was a proposal to build a new capital city called Amravati or something similar, but maybe that changed. Alternatively, maybe Hyderabad was chosen as the capital of Telangana, and Amaravati became the capital of the new Andhra Pradesh.\\n\\nWait, actually, I think after the separation, Telangana retained Hyderabad as its capital initially, while Andhra Pradesh decided to start building a new capital, which is Amaravati. But then, due to some controversies or delays, maybe Amaravati wasn\\'t completed, and Andhra Pradesh shifted to another city? Or perhaps Hyderabad remained the capital of Telangana. \\n\\nI should verify. Let me try to recall. Yes, the capital of Telangana is Hyderabad. But there was a plan to move the capital to a new city called Secunderabad? Or maybe there was a proposal for a new capital called \"Amravati\" for Telangana? Wait, no, I think Amravati was for Andhra Pradesh. \\n\\nWait, confusion arises. Let me get this straight. When Telangana became a state in 2014, the government was initially based in Hyderabad. There was a proposal to build a new capital called \"Hyderabad Metropolitan Region\" or maybe another name, but it seems like Hyderabad itself is the capital. Alternatively, there might be a plan to develop a new capital in the future. \\n\\nI think the current capital is Hyderabad. But I need to make sure there hasn\\'t been a recent change. Let me check my memory. Yes, as of now, the capital of Telangana is Hyderabad. There were plans to build a new capital, but they haven\\'t been implemented yet. So the answer should be Hyderabad.\\n</think>\\n\\nThe capital of Telangana is **Hyderabad**. \\n\\n**Key Details:**\\n- **History:** Hyderabad served as the capital of the united Andhra Pradesh before Telangana\\'s formation in 2014. After the bifurcation, it was designated as the capital of Telangana.\\n- **Context:** While there were discussions about constructing a new capital for Telangana (proposed names included \"Hyderabad Metropolitan Region\" or other alternatives), no new capital has been established or completed as of now. Hyderabad remains the administrative and political center of the state.\\n- **Cultural/Economic Significance:** Hyderabad is a major economic, cultural, and technological hub in India, known for its IT industry, historical landmarks, and diverse heritage.\\n\\nThus, **Hyderabad** is the current and recognized capital of Telangana.', additional_kwargs={}, response_metadata={'token_usage': {'completion_tokens': 757, 'prompt_tokens': 17, 'total_tokens': 774, 'completion_time': 1.8274977140000002, 'prompt_time': 0.000473563, 'queue_time': 0.051135072, 'total_time': 1.827971277}, 'model_name': 'qwen/qwen3-32b', 'system_fingerprint': 'fp_f17c2eb555', 'service_tier': 'on_demand', 'finish_reason': 'stop', 'logprobs': None}, id='run--eb2d1b62-df6c-405f-89b9-d65ebc24adb3-0', usage_metadata={'input_tokens': 17, 'output_tokens': 757, 'total_tokens': 774})"
      ]
     },
     "execution_count": 8,
     "metadata": {},
     "output_type": "execute_result"
    }
   ],
   "source": [
    "model.invoke(\"what is the capital of Telangana?\")"
   ]
  },
  {
   "cell_type": "code",
   "execution_count": 9,
   "metadata": {},
   "outputs": [],
   "source": [
    "from langchain_google_genai import GoogleGenerativeAIEmbeddings"
   ]
  },
  {
   "cell_type": "code",
   "execution_count": 10,
   "metadata": {},
   "outputs": [],
   "source": [
    "embedding_model=GoogleGenerativeAIEmbeddings(model=\"models/embedding-001\")"
   ]
  },
  {
   "cell_type": "code",
   "execution_count": null,
   "metadata": {},
   "outputs": [],
   "source": [
    "embedding_model.embed_query(\"What is the capital of France?\")"
   ]
  },
  {
   "cell_type": "markdown",
   "metadata": {},
   "source": [
    "## Data Ingestion"
   ]
  },
  {
   "cell_type": "code",
   "execution_count": 12,
   "metadata": {},
   "outputs": [],
   "source": [
    "from langchain.document_loaders import PyPDFLoader"
   ]
  },
  {
   "cell_type": "code",
   "execution_count": 13,
   "metadata": {},
   "outputs": [],
   "source": [
    "from langchain.text_splitter import RecursiveCharacterTextSplitter"
   ]
  },
  {
   "cell_type": "code",
   "execution_count": 49,
   "metadata": {},
   "outputs": [],
   "source": [
    "import os\n",
    "file_path = os.path.join(os.getcwd(), \"data\", \"Thoughtworks Employee Benefit Manual 2024-25 (3).pdf\")"
   ]
  },
  {
   "cell_type": "code",
   "execution_count": 50,
   "metadata": {},
   "outputs": [
    {
     "data": {
      "text/plain": [
       "'/Users/admin/anil_reddaboina/ai_learning/document_processing/notebook/data/Thoughtworks Employee Benefit Manual 2024-25 (3).pdf'"
      ]
     },
     "execution_count": 50,
     "metadata": {},
     "output_type": "execute_result"
    }
   ],
   "source": [
    "file_path"
   ]
  },
  {
   "cell_type": "code",
   "execution_count": 51,
   "metadata": {},
   "outputs": [],
   "source": [
    "# /Users/admin/anil_reddaboina/ai_learning/document_processing/notebook/data/rahul_resume.pdf\n",
    "loader=PyPDFLoader(file_path)"
   ]
  },
  {
   "cell_type": "code",
   "execution_count": 53,
   "metadata": {},
   "outputs": [
    {
     "data": {
      "text/plain": [
       "38"
      ]
     },
     "execution_count": 53,
     "metadata": {},
     "output_type": "execute_result"
    }
   ],
   "source": [
    "documents = loader.load()\n",
    "len(documents)"
   ]
  },
  {
   "cell_type": "code",
   "execution_count": 54,
   "metadata": {},
   "outputs": [
    {
     "name": "stdout",
     "output_type": "stream",
     "text": [
      "111\n"
     ]
    }
   ],
   "source": [
    "#chunking the documents using RecursiveCharacterTextSplitter\n",
    "from langchain.text_splitter import RecursiveCharacterTextSplitter\n",
    "\n",
    "text_spitter = RecursiveCharacterTextSplitter(\n",
    "    chunk_size=500,\n",
    "    chunk_overlap=100,\n",
    "    length_function=len,\n",
    "    )\n",
    "\n",
    "docs = text_spitter.split_documents(documents)\n",
    "\n",
    "print(len(docs))"
   ]
  },
  {
   "cell_type": "code",
   "execution_count": 33,
   "metadata": {},
   "outputs": [
    {
     "data": {
      "text/plain": [
       "{'producer': 'Microsoft® PowerPoint® for Microsoft 365',\n",
       " 'creator': 'Microsoft® PowerPoint® for Microsoft 365',\n",
       " 'creationdate': '2024-11-20T18:17:08+05:30',\n",
       " 'msip_label_88914ebd-7e6c-4e12-a031-a9906be2db14_enabled': 'true',\n",
       " 'msip_label_88914ebd-7e6c-4e12-a031-a9906be2db14_setdate': '2021-07-12T10:31:05Z',\n",
       " 'msip_label_88914ebd-7e6c-4e12-a031-a9906be2db14_method': 'Standard',\n",
       " 'msip_label_88914ebd-7e6c-4e12-a031-a9906be2db14_name': 'AMD Official Use Only-AIP 2.0',\n",
       " 'msip_label_88914ebd-7e6c-4e12-a031-a9906be2db14_siteid': '3dd8961f-e488-4e60-8e11-a82d994e183d',\n",
       " 'msip_label_88914ebd-7e6c-4e12-a031-a9906be2db14_actionid': 'fd5b1a93-06af-43ac-9429-f2fb3b5aff44',\n",
       " 'msip_label_88914ebd-7e6c-4e12-a031-a9906be2db14_contentbits': '1',\n",
       " 'msip_label_38f1469a-2c2a-4aee-b92b-090d4c5468ff_enabled': 'true',\n",
       " 'msip_label_38f1469a-2c2a-4aee-b92b-090d4c5468ff_setdate': '2022-05-06T03:44:46Z',\n",
       " 'msip_label_38f1469a-2c2a-4aee-b92b-090d4c5468ff_method': 'Standard',\n",
       " 'msip_label_38f1469a-2c2a-4aee-b92b-090d4c5468ff_name': 'Confidential - Unmarked',\n",
       " 'msip_label_38f1469a-2c2a-4aee-b92b-090d4c5468ff_siteid': '2a6e6092-73e4-4752-b1a5-477a17f5056d',\n",
       " 'msip_label_38f1469a-2c2a-4aee-b92b-090d4c5468ff_actionid': '7fcbe8df-a888-492d-bad8-5003c9f18eac',\n",
       " 'msip_label_38f1469a-2c2a-4aee-b92b-090d4c5468ff_contentbits': '0',\n",
       " 'msip_label_0d111c4b-49e3-4225-99d5-171502db0107_enabled': 'true',\n",
       " 'msip_label_0d111c4b-49e3-4225-99d5-171502db0107_setdate': '2022-05-28T15:25:29Z',\n",
       " 'msip_label_0d111c4b-49e3-4225-99d5-171502db0107_method': 'Standard',\n",
       " 'msip_label_0d111c4b-49e3-4225-99d5-171502db0107_name': 'Authorized Use',\n",
       " 'msip_label_0d111c4b-49e3-4225-99d5-171502db0107_siteid': 'bcfa3e87-841e-48c7-983b-584159dd1a69',\n",
       " 'msip_label_0d111c4b-49e3-4225-99d5-171502db0107_actionid': 'bcf33de6-6ea3-48e8-a4b9-4fcce0bbcf68',\n",
       " 'msip_label_0d111c4b-49e3-4225-99d5-171502db0107_contentbits': '0',\n",
       " 'title': 'PowerPoint Presentation',\n",
       " 'author': 'Latke, Kiran',\n",
       " 'moddate': '2024-11-20T18:17:08+05:30',\n",
       " 'source': '/Users/admin/anil_reddaboina/ai_learning/document_processing/notebook/data/Thoughtworks Employee Benefit Manual 2024-25 (3).pdf',\n",
       " 'total_pages': 38,\n",
       " 'page': 0,\n",
       " 'page_label': '1'}"
      ]
     },
     "execution_count": 33,
     "metadata": {},
     "output_type": "execute_result"
    }
   ],
   "source": [
    "docs[0].metadata"
   ]
  },
  {
   "cell_type": "code",
   "execution_count": 56,
   "metadata": {},
   "outputs": [
    {
     "data": {
      "text/plain": [
       "'Employee Insurance \\nBenefits Manual\\n2024-25'"
      ]
     },
     "metadata": {},
     "output_type": "display_data"
    }
   ],
   "source": [
    "content = docs[0].page_content\n",
    "display(content)"
   ]
  },
  {
   "cell_type": "code",
   "execution_count": 40,
   "metadata": {},
   "outputs": [
    {
     "data": {
      "text/plain": [
       "768"
      ]
     },
     "execution_count": 40,
     "metadata": {},
     "output_type": "execute_result"
    }
   ],
   "source": [
    "len(embedding_model.embed_documents(docs[0].page_content)[0])"
   ]
  },
  {
   "cell_type": "code",
   "execution_count": 57,
   "metadata": {},
   "outputs": [],
   "source": [
    "from langchain.vectorstores import FAISS"
   ]
  },
  {
   "cell_type": "code",
   "execution_count": 58,
   "metadata": {},
   "outputs": [],
   "source": [
    "#FAISS is inmemory  vector store\n",
    "#Creating a vector store from the documents using the embedding model\n",
    "# cloud storage is not supported by FAISS, so we need to use an in-memory vector store\n",
    "# cloud storage examples include Pinecone, Weaviate, Milvus, astradb, etc..\n",
    "vector_store=FAISS.from_documents(docs, embedding_model)"
   ]
  },
  {
   "cell_type": "markdown",
   "metadata": {},
   "source": [
    "## This is a Retrieval Process\n",
    "means from the Vector database we fetches the most approapriate results"
   ]
  },
  {
   "cell_type": "markdown",
   "metadata": {},
   "source": []
  },
  {
   "cell_type": "code",
   "execution_count": 42,
   "metadata": {},
   "outputs": [
    {
     "data": {
      "text/plain": [
       "[Document(id='bc85cabd-058d-4dbd-a1b3-e9f5d9d2cbd0', metadata={'producer': 'Microsoft® PowerPoint® for Microsoft 365', 'creator': 'Microsoft® PowerPoint® for Microsoft 365', 'creationdate': '2024-11-20T18:17:08+05:30', 'msip_label_88914ebd-7e6c-4e12-a031-a9906be2db14_enabled': 'true', 'msip_label_88914ebd-7e6c-4e12-a031-a9906be2db14_setdate': '2021-07-12T10:31:05Z', 'msip_label_88914ebd-7e6c-4e12-a031-a9906be2db14_method': 'Standard', 'msip_label_88914ebd-7e6c-4e12-a031-a9906be2db14_name': 'AMD Official Use Only-AIP 2.0', 'msip_label_88914ebd-7e6c-4e12-a031-a9906be2db14_siteid': '3dd8961f-e488-4e60-8e11-a82d994e183d', 'msip_label_88914ebd-7e6c-4e12-a031-a9906be2db14_actionid': 'fd5b1a93-06af-43ac-9429-f2fb3b5aff44', 'msip_label_88914ebd-7e6c-4e12-a031-a9906be2db14_contentbits': '1', 'msip_label_38f1469a-2c2a-4aee-b92b-090d4c5468ff_enabled': 'true', 'msip_label_38f1469a-2c2a-4aee-b92b-090d4c5468ff_setdate': '2022-05-06T03:44:46Z', 'msip_label_38f1469a-2c2a-4aee-b92b-090d4c5468ff_method': 'Standard', 'msip_label_38f1469a-2c2a-4aee-b92b-090d4c5468ff_name': 'Confidential - Unmarked', 'msip_label_38f1469a-2c2a-4aee-b92b-090d4c5468ff_siteid': '2a6e6092-73e4-4752-b1a5-477a17f5056d', 'msip_label_38f1469a-2c2a-4aee-b92b-090d4c5468ff_actionid': '7fcbe8df-a888-492d-bad8-5003c9f18eac', 'msip_label_38f1469a-2c2a-4aee-b92b-090d4c5468ff_contentbits': '0', 'msip_label_0d111c4b-49e3-4225-99d5-171502db0107_enabled': 'true', 'msip_label_0d111c4b-49e3-4225-99d5-171502db0107_setdate': '2022-05-28T15:25:29Z', 'msip_label_0d111c4b-49e3-4225-99d5-171502db0107_method': 'Standard', 'msip_label_0d111c4b-49e3-4225-99d5-171502db0107_name': 'Authorized Use', 'msip_label_0d111c4b-49e3-4225-99d5-171502db0107_siteid': 'bcfa3e87-841e-48c7-983b-584159dd1a69', 'msip_label_0d111c4b-49e3-4225-99d5-171502db0107_actionid': 'bcf33de6-6ea3-48e8-a4b9-4fcce0bbcf68', 'msip_label_0d111c4b-49e3-4225-99d5-171502db0107_contentbits': '0', 'title': 'PowerPoint Presentation', 'author': 'Latke, Kiran', 'moddate': '2024-11-20T18:17:08+05:30', 'source': '/Users/admin/anil_reddaboina/ai_learning/document_processing/notebook/data/Thoughtworks Employee Benefit Manual 2024-25 (3).pdf', 'total_pages': 38, 'page': 25, 'page_label': '26'}, page_content='Claim Process'),\n",
       " Document(id='273361cd-aa54-43ef-b736-1e519b9c9f83', metadata={'producer': 'Microsoft® PowerPoint® for Microsoft 365', 'creator': 'Microsoft® PowerPoint® for Microsoft 365', 'creationdate': '2024-11-20T18:17:08+05:30', 'msip_label_88914ebd-7e6c-4e12-a031-a9906be2db14_enabled': 'true', 'msip_label_88914ebd-7e6c-4e12-a031-a9906be2db14_setdate': '2021-07-12T10:31:05Z', 'msip_label_88914ebd-7e6c-4e12-a031-a9906be2db14_method': 'Standard', 'msip_label_88914ebd-7e6c-4e12-a031-a9906be2db14_name': 'AMD Official Use Only-AIP 2.0', 'msip_label_88914ebd-7e6c-4e12-a031-a9906be2db14_siteid': '3dd8961f-e488-4e60-8e11-a82d994e183d', 'msip_label_88914ebd-7e6c-4e12-a031-a9906be2db14_actionid': 'fd5b1a93-06af-43ac-9429-f2fb3b5aff44', 'msip_label_88914ebd-7e6c-4e12-a031-a9906be2db14_contentbits': '1', 'msip_label_38f1469a-2c2a-4aee-b92b-090d4c5468ff_enabled': 'true', 'msip_label_38f1469a-2c2a-4aee-b92b-090d4c5468ff_setdate': '2022-05-06T03:44:46Z', 'msip_label_38f1469a-2c2a-4aee-b92b-090d4c5468ff_method': 'Standard', 'msip_label_38f1469a-2c2a-4aee-b92b-090d4c5468ff_name': 'Confidential - Unmarked', 'msip_label_38f1469a-2c2a-4aee-b92b-090d4c5468ff_siteid': '2a6e6092-73e4-4752-b1a5-477a17f5056d', 'msip_label_38f1469a-2c2a-4aee-b92b-090d4c5468ff_actionid': '7fcbe8df-a888-492d-bad8-5003c9f18eac', 'msip_label_38f1469a-2c2a-4aee-b92b-090d4c5468ff_contentbits': '0', 'msip_label_0d111c4b-49e3-4225-99d5-171502db0107_enabled': 'true', 'msip_label_0d111c4b-49e3-4225-99d5-171502db0107_setdate': '2022-05-28T15:25:29Z', 'msip_label_0d111c4b-49e3-4225-99d5-171502db0107_method': 'Standard', 'msip_label_0d111c4b-49e3-4225-99d5-171502db0107_name': 'Authorized Use', 'msip_label_0d111c4b-49e3-4225-99d5-171502db0107_siteid': 'bcfa3e87-841e-48c7-983b-584159dd1a69', 'msip_label_0d111c4b-49e3-4225-99d5-171502db0107_actionid': 'bcf33de6-6ea3-48e8-a4b9-4fcce0bbcf68', 'msip_label_0d111c4b-49e3-4225-99d5-171502db0107_contentbits': '0', 'title': 'PowerPoint Presentation', 'author': 'Latke, Kiran', 'moddate': '2024-11-20T18:17:08+05:30', 'source': '/Users/admin/anil_reddaboina/ai_learning/document_processing/notebook/data/Thoughtworks Employee Benefit Manual 2024-25 (3).pdf', 'total_pages': 38, 'page': 0, 'page_label': '1'}, page_content='Employee Insurance \\nBenefits Manual\\n2024-25'),\n",
       " Document(id='9c768d1b-6530-47d3-a84a-8fe3ba5d76fa', metadata={'producer': 'Microsoft® PowerPoint® for Microsoft 365', 'creator': 'Microsoft® PowerPoint® for Microsoft 365', 'creationdate': '2024-11-20T18:17:08+05:30', 'msip_label_88914ebd-7e6c-4e12-a031-a9906be2db14_enabled': 'true', 'msip_label_88914ebd-7e6c-4e12-a031-a9906be2db14_setdate': '2021-07-12T10:31:05Z', 'msip_label_88914ebd-7e6c-4e12-a031-a9906be2db14_method': 'Standard', 'msip_label_88914ebd-7e6c-4e12-a031-a9906be2db14_name': 'AMD Official Use Only-AIP 2.0', 'msip_label_88914ebd-7e6c-4e12-a031-a9906be2db14_siteid': '3dd8961f-e488-4e60-8e11-a82d994e183d', 'msip_label_88914ebd-7e6c-4e12-a031-a9906be2db14_actionid': 'fd5b1a93-06af-43ac-9429-f2fb3b5aff44', 'msip_label_88914ebd-7e6c-4e12-a031-a9906be2db14_contentbits': '1', 'msip_label_38f1469a-2c2a-4aee-b92b-090d4c5468ff_enabled': 'true', 'msip_label_38f1469a-2c2a-4aee-b92b-090d4c5468ff_setdate': '2022-05-06T03:44:46Z', 'msip_label_38f1469a-2c2a-4aee-b92b-090d4c5468ff_method': 'Standard', 'msip_label_38f1469a-2c2a-4aee-b92b-090d4c5468ff_name': 'Confidential - Unmarked', 'msip_label_38f1469a-2c2a-4aee-b92b-090d4c5468ff_siteid': '2a6e6092-73e4-4752-b1a5-477a17f5056d', 'msip_label_38f1469a-2c2a-4aee-b92b-090d4c5468ff_actionid': '7fcbe8df-a888-492d-bad8-5003c9f18eac', 'msip_label_38f1469a-2c2a-4aee-b92b-090d4c5468ff_contentbits': '0', 'msip_label_0d111c4b-49e3-4225-99d5-171502db0107_enabled': 'true', 'msip_label_0d111c4b-49e3-4225-99d5-171502db0107_setdate': '2022-05-28T15:25:29Z', 'msip_label_0d111c4b-49e3-4225-99d5-171502db0107_method': 'Standard', 'msip_label_0d111c4b-49e3-4225-99d5-171502db0107_name': 'Authorized Use', 'msip_label_0d111c4b-49e3-4225-99d5-171502db0107_siteid': 'bcfa3e87-841e-48c7-983b-584159dd1a69', 'msip_label_0d111c4b-49e3-4225-99d5-171502db0107_actionid': 'bcf33de6-6ea3-48e8-a4b9-4fcce0bbcf68', 'msip_label_0d111c4b-49e3-4225-99d5-171502db0107_contentbits': '0', 'title': 'PowerPoint Presentation', 'author': 'Latke, Kiran', 'moddate': '2024-11-20T18:17:08+05:30', 'source': '/Users/admin/anil_reddaboina/ai_learning/document_processing/notebook/data/Thoughtworks Employee Benefit Manual 2024-25 (3).pdf', 'total_pages': 38, 'page': 37, 'page_label': '38'}, page_content='subject matter of solicitation. \\nThis document is not intended to be taken as advice regarding any individual situation and should not be relied upon as such.  The information contained herein is based on sources we believe reliable, but we make no representation or warranty'),\n",
       " Document(id='8f091e60-a8e7-41b0-a749-0cc31a66a078', metadata={'producer': 'Microsoft® PowerPoint® for Microsoft 365', 'creator': 'Microsoft® PowerPoint® for Microsoft 365', 'creationdate': '2024-11-20T18:17:08+05:30', 'msip_label_88914ebd-7e6c-4e12-a031-a9906be2db14_enabled': 'true', 'msip_label_88914ebd-7e6c-4e12-a031-a9906be2db14_setdate': '2021-07-12T10:31:05Z', 'msip_label_88914ebd-7e6c-4e12-a031-a9906be2db14_method': 'Standard', 'msip_label_88914ebd-7e6c-4e12-a031-a9906be2db14_name': 'AMD Official Use Only-AIP 2.0', 'msip_label_88914ebd-7e6c-4e12-a031-a9906be2db14_siteid': '3dd8961f-e488-4e60-8e11-a82d994e183d', 'msip_label_88914ebd-7e6c-4e12-a031-a9906be2db14_actionid': 'fd5b1a93-06af-43ac-9429-f2fb3b5aff44', 'msip_label_88914ebd-7e6c-4e12-a031-a9906be2db14_contentbits': '1', 'msip_label_38f1469a-2c2a-4aee-b92b-090d4c5468ff_enabled': 'true', 'msip_label_38f1469a-2c2a-4aee-b92b-090d4c5468ff_setdate': '2022-05-06T03:44:46Z', 'msip_label_38f1469a-2c2a-4aee-b92b-090d4c5468ff_method': 'Standard', 'msip_label_38f1469a-2c2a-4aee-b92b-090d4c5468ff_name': 'Confidential - Unmarked', 'msip_label_38f1469a-2c2a-4aee-b92b-090d4c5468ff_siteid': '2a6e6092-73e4-4752-b1a5-477a17f5056d', 'msip_label_38f1469a-2c2a-4aee-b92b-090d4c5468ff_actionid': '7fcbe8df-a888-492d-bad8-5003c9f18eac', 'msip_label_38f1469a-2c2a-4aee-b92b-090d4c5468ff_contentbits': '0', 'msip_label_0d111c4b-49e3-4225-99d5-171502db0107_enabled': 'true', 'msip_label_0d111c4b-49e3-4225-99d5-171502db0107_setdate': '2022-05-28T15:25:29Z', 'msip_label_0d111c4b-49e3-4225-99d5-171502db0107_method': 'Standard', 'msip_label_0d111c4b-49e3-4225-99d5-171502db0107_name': 'Authorized Use', 'msip_label_0d111c4b-49e3-4225-99d5-171502db0107_siteid': 'bcfa3e87-841e-48c7-983b-584159dd1a69', 'msip_label_0d111c4b-49e3-4225-99d5-171502db0107_actionid': 'bcf33de6-6ea3-48e8-a4b9-4fcce0bbcf68', 'msip_label_0d111c4b-49e3-4225-99d5-171502db0107_contentbits': '0', 'title': 'PowerPoint Presentation', 'author': 'Latke, Kiran', 'moddate': '2024-11-20T18:17:08+05:30', 'source': '/Users/admin/anil_reddaboina/ai_learning/document_processing/notebook/data/Thoughtworks Employee Benefit Manual 2024-25 (3).pdf', 'total_pages': 38, 'page': 34, 'page_label': '35'}, page_content='recognized by government and/or accredited by Quality Council Of India / National Accreditation Board on Health, excluding centers for spas, massage and health \\nrejuvenation procedures')]"
      ]
     },
     "execution_count": 42,
     "metadata": {},
     "output_type": "execute_result"
    }
   ],
   "source": [
    "vector_store.similarity_search(\"thoughtWorks\")"
   ]
  },
  {
   "cell_type": "code",
   "execution_count": 46,
   "metadata": {},
   "outputs": [],
   "source": [
    "result_documents = vector_store.similarity_search(\"What are the benefits of working at ThoughtWorks?\", k=1)"
   ]
  },
  {
   "cell_type": "code",
   "execution_count": 48,
   "metadata": {},
   "outputs": [
    {
     "data": {
      "text/plain": [
       "1"
      ]
     },
     "execution_count": 48,
     "metadata": {},
     "output_type": "execute_result"
    }
   ],
   "source": [
    "len(result_documents)"
   ]
  },
  {
   "cell_type": "code",
   "execution_count": 47,
   "metadata": {},
   "outputs": [
    {
     "data": {
      "text/plain": [
       "'Benefits Extension: Definitions\\nBenefits For Thoughtworks Definition\\nLGBTQ++ Covered LGBT (Individual will be covered with all the terms and conditions of the ThoughtWorks policy. *Expenses other \\nthan that covered in the policy is not Payable.\\nADHD/Autism Covered up to the age of 5 years, Per child up to Rs 30,000\\nSubmission Of Chronic Ailments Covered Post Hospitalization expense can be submitted up to 150 days\\nPortability Benefit according to \\nhis/her tenure with the \\norganization\\nCovered'"
      ]
     },
     "execution_count": 47,
     "metadata": {},
     "output_type": "execute_result"
    }
   ],
   "source": [
    "result_documents[0].page_content"
   ]
  },
  {
   "cell_type": "code",
   "execution_count": 59,
   "metadata": {},
   "outputs": [],
   "source": [
    "retiever = vector_store.as_retriever()"
   ]
  },
  {
   "cell_type": "code",
   "execution_count": 61,
   "metadata": {},
   "outputs": [
    {
     "data": {
      "text/plain": [
       "[Document(id='c9855261-6f5a-494a-82a3-26e6e60df40d', metadata={'producer': 'Microsoft® PowerPoint® for Microsoft 365', 'creator': 'Microsoft® PowerPoint® for Microsoft 365', 'creationdate': '2024-11-20T18:17:08+05:30', 'msip_label_88914ebd-7e6c-4e12-a031-a9906be2db14_enabled': 'true', 'msip_label_88914ebd-7e6c-4e12-a031-a9906be2db14_setdate': '2021-07-12T10:31:05Z', 'msip_label_88914ebd-7e6c-4e12-a031-a9906be2db14_method': 'Standard', 'msip_label_88914ebd-7e6c-4e12-a031-a9906be2db14_name': 'AMD Official Use Only-AIP 2.0', 'msip_label_88914ebd-7e6c-4e12-a031-a9906be2db14_siteid': '3dd8961f-e488-4e60-8e11-a82d994e183d', 'msip_label_88914ebd-7e6c-4e12-a031-a9906be2db14_actionid': 'fd5b1a93-06af-43ac-9429-f2fb3b5aff44', 'msip_label_88914ebd-7e6c-4e12-a031-a9906be2db14_contentbits': '1', 'msip_label_38f1469a-2c2a-4aee-b92b-090d4c5468ff_enabled': 'true', 'msip_label_38f1469a-2c2a-4aee-b92b-090d4c5468ff_setdate': '2022-05-06T03:44:46Z', 'msip_label_38f1469a-2c2a-4aee-b92b-090d4c5468ff_method': 'Standard', 'msip_label_38f1469a-2c2a-4aee-b92b-090d4c5468ff_name': 'Confidential - Unmarked', 'msip_label_38f1469a-2c2a-4aee-b92b-090d4c5468ff_siteid': '2a6e6092-73e4-4752-b1a5-477a17f5056d', 'msip_label_38f1469a-2c2a-4aee-b92b-090d4c5468ff_actionid': '7fcbe8df-a888-492d-bad8-5003c9f18eac', 'msip_label_38f1469a-2c2a-4aee-b92b-090d4c5468ff_contentbits': '0', 'msip_label_0d111c4b-49e3-4225-99d5-171502db0107_enabled': 'true', 'msip_label_0d111c4b-49e3-4225-99d5-171502db0107_setdate': '2022-05-28T15:25:29Z', 'msip_label_0d111c4b-49e3-4225-99d5-171502db0107_method': 'Standard', 'msip_label_0d111c4b-49e3-4225-99d5-171502db0107_name': 'Authorized Use', 'msip_label_0d111c4b-49e3-4225-99d5-171502db0107_siteid': 'bcfa3e87-841e-48c7-983b-584159dd1a69', 'msip_label_0d111c4b-49e3-4225-99d5-171502db0107_actionid': 'bcf33de6-6ea3-48e8-a4b9-4fcce0bbcf68', 'msip_label_0d111c4b-49e3-4225-99d5-171502db0107_contentbits': '0', 'title': 'PowerPoint Presentation', 'author': 'Latke, Kiran', 'moddate': '2024-11-20T18:17:08+05:30', 'source': '/Users/admin/anil_reddaboina/ai_learning/document_processing/notebook/data/Thoughtworks Employee Benefit Manual 2024-25 (3).pdf', 'total_pages': 38, 'page': 8, 'page_label': '9'}, page_content='Benefits Extension: Definitions\\nBenefits For Thoughtworks Definition\\nLGBTQ++ Covered LGBT (Individual will be covered with all the terms and conditions of the ThoughtWorks policy. *Expenses other \\nthan that covered in the policy is not Payable.\\nADHD/Autism Covered up to the age of 5 years, Per child up to Rs 30,000\\nSubmission Of Chronic Ailments Covered Post Hospitalization expense can be submitted up to 150 days\\nPortability Benefit according to \\nhis/her tenure with the \\norganization\\nCovered')]"
      ]
     },
     "execution_count": 61,
     "metadata": {},
     "output_type": "execute_result"
    }
   ],
   "source": [
    "retiever.invoke(\"What are the benefits of working at ThoughtWorks?\", k=1)"
   ]
  },
  {
   "cell_type": "markdown",
   "metadata": {},
   "source": [
    "## question: this is a users question\n",
    "## context: Based on users's prompt or question we are retrieving the information from the vector store\n"
   ]
  },
  {
   "cell_type": "code",
   "execution_count": null,
   "metadata": {},
   "outputs": [],
   "source": [
    "# Langchain Expression Language (LCEL) is a way to write expressions that can be used in Langchain\n",
    "\n",
    "prompt_template = \"\"\"\n",
    "You are a helpful assistant. You answer questions based on the context provided.\n",
    "Context: {context}\n",
    "Question: {question}\n",
    "Answer:\"\"\""
   ]
  },
  {
   "cell_type": "code",
   "execution_count": 84,
   "metadata": {},
   "outputs": [],
   "source": [
    "from langchain.prompts import PromptTemplate\n",
    "prompt = PromptTemplate(template=prompt_template,input_variables=[\"context\", \"question\"])"
   ]
  },
  {
   "cell_type": "code",
   "execution_count": 83,
   "metadata": {},
   "outputs": [
    {
     "name": "stdout",
     "output_type": "stream",
     "text": [
      " You are a helpful assistant. You answer questions based on the context\n",
      "provided. Context: {context} Question: {question} Answer:\n"
     ]
    }
   ],
   "source": [
    "import textwrap\n",
    "print(\"\\n\".join(textwrap.wrap(prompt_template, width=80)))"
   ]
  },
  {
   "cell_type": "code",
   "execution_count": 74,
   "metadata": {},
   "outputs": [],
   "source": [
    "def format_docs(docs):\n",
    "    return \"\\n\".join([doc.page_content for doc in docs])"
   ]
  },
  {
   "cell_type": "code",
   "execution_count": null,
   "metadata": {},
   "outputs": [],
   "source": [
    "from langchain.schema.runnable import RunnablePassthrough\n",
    "from langchain_core.output_parsers import StrOutputParser\n",
    "\n",
    "rag_chain = (\n",
    "    {\"context\": retiever | format_docs, \"question\": RunnablePassthrough()}\n",
    "    | prompt\n",
    "    | model\n",
    "    | StrOutputParser()\n",
    ")"
   ]
  },
  {
   "cell_type": "code",
   "execution_count": 82,
   "metadata": {},
   "outputs": [
    {
     "name": "stdout",
     "output_type": "stream",
     "text": [
      "<think> Okay, let's see. The user is asking about the benefits of working at ThoughtWorks. I need to base my answer on the provided context, which has\n",
      "several sections under \"Benefits Extension: Definitions.\"   First, I should go through each section to understand what's covered. The context mentions\n",
      "various medical and health-related benefits. For example, there's coverage for LGBTQ+ individuals, ADHD/Autism up to age 5 and a certain amount per\n",
      "child. Then there's info on submitting chronic ailment expenses after hospitalization, portability based on tenure.  Ambulance charges are specified\n",
      "with different amounts for interstate and air ambulance. Congenital diseases are covered but external ones exclude cosmetic. Stem cell transplants are\n",
      "covered up to 50% with a max. Oral chemotherapy and targeted therapy are covered up to sum insured. Room rent has no capping for normal and ICU/CCU.\n",
      "Nasal sinus surgeries and terrorism-related hospitalization are included. Dental and vision for employees. Alternative medicine in registered\n",
      "hospitals. Widows/widowers covered under family sum. Psychiatric hospitalization up to 30k per person. Cyber Knife treatment with 50% co-pay. Also\n",
      "cochlear implants and stem cell mentioned, but the stem cell part might be duplicate.  I need to organize these into a coherent answer, highlighting\n",
      "the key points. The user wants to know the benefits, so maybe list them in categories like health coverage, family benefits, portability, etc. Make\n",
      "sure to mention specific details like coverage amounts, conditions, exclusions. Also note that some benefits are for employees only, others for\n",
      "dependents. Avoid technical jargon where possible but include necessary specifics like the 30k per child for ADHD/Autism. Check for any other\n",
      "important points like terrorism coverage or alternative medicine. Ensure that the answer is clear and covers all the mentioned benefits without\n",
      "missing any from the context. </think>  Working at ThoughtWorks offers a comprehensive benefits package with a strong focus on health and family\n",
      "welfare, as outlined in the provided context. Here are the key benefits:  ### **Health Coverage** 1. **LGBTQ+ Inclusion**: Full coverage for LGBTQ+\n",
      "individuals, adhering to company policy terms. 2. **Chronic Ailments & Hospitalization**: Post-hospitalization expenses for chronic conditions can be\n",
      "submitted within **150 days**. 3. **Ambulance Charges**:    - **INR 3,500 per person** for interstate travel.    - **INR 25,000** for air ambulance\n",
      "(group-wide).    - **INR 10 lakhs** for air ambulance (entire group). 4. **Congenital Diseases**: Covers internal conditions and external conditions\n",
      "(excluding cosmetic-related treatments). 5. **Stem Cell Transplantation**: Up to **50% of the claim amount**, max **INR 2,00,000**. 6. **Oral/Targeted\n",
      "Chemotherapy**: Covered up to the **sum insured**. 7. **Room Rent**: No cap on room charges for normal/ICU/CCU. 8. **Nasal Sinus Surgeries**: Fully\n",
      "covered without limits. 9. **Terrorism-Related Hospitalization**: Fully covered. 10. **Dental & Vision**: Exclusive to employees.  ### **Family &\n",
      "Special Needs Support** 1. **ADHD/Autism**: Up to **INR 30,000 per child** under age 5. 2. **Alternative Medicine**: Covered in **government-\n",
      "recognized hospitals** (e.g., Ayurveda, Unani, Naturopathy). 3. **Widow/Widower Benefits**: Covered under the **family sum insured**. 4. **Psychiatric\n",
      "Ailments**: Hospitalization up to **INR 30,000 per person**. 5. **Cyber Knife Treatment**: 50% co-pay applies. 6. **Cochlear Implants**: Covered\n",
      "(exact details depend on policy terms).  ### **Portability & Long-Term Benefits** - **Portability**: Benefits tied to **organizational tenure**,\n",
      "ensuring long-term security.  ### **Key Exclusions** - Cosmetic procedures for congenital diseases. - Expenses beyond policy terms (e.g., ADHD/Autism\n",
      "beyond INR 30,000 or age 5). - Dental/vision coverage limited to employees, not dependents.  ThoughtWorks emphasizes inclusive, family-centric\n",
      "healthcare, with robust coverage for critical treatments and specialized care, making it an attractive option for employees prioritizing health and\n",
      "work-life balance.\n"
     ]
    }
   ],
   "source": [
    "import textwrap\n",
    "\n",
    "# Call the rag_chain.invoke method\n",
    "output = rag_chain.invoke(\"tell me about the benefits of working at ThoughtWorks?\")\n",
    "\n",
    "# Format the output for better readability\n",
    "print(\"\\n\".join(textwrap.wrap(output, width=150)))"
   ]
  }
 ],
 "metadata": {
  "kernelspec": {
   "display_name": "Python 3",
   "language": "python",
   "name": "python3"
  },
  "language_info": {
   "codemirror_mode": {
    "name": "ipython",
    "version": 3
   },
   "file_extension": ".py",
   "mimetype": "text/x-python",
   "name": "python",
   "nbconvert_exporter": "python",
   "pygments_lexer": "ipython3",
   "version": "3.10.18"
  }
 },
 "nbformat": 4,
 "nbformat_minor": 2
}
