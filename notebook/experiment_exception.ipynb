{
 "cells": [
  {
   "cell_type": "code",
   "execution_count": 4,
   "metadata": {},
   "outputs": [],
   "source": [
    "from doc_logging.custom_logger import CustomerLogger"
   ]
  },
  {
   "cell_type": "code",
   "execution_count": 10,
   "metadata": {},
   "outputs": [
    {
     "name": "stdout",
     "output_type": "stream",
     "text": [
      "custom logger LOG_FILE_PATH  /Users/admin/anil_reddaboina/ai_learning/document_processing/notebook/logs/07_26_2025_16_01_06.log\n"
     ]
    }
   ],
   "source": [
    "logger = CustomerLogger().get_logger(\"exception experiement\")"
   ]
  },
  {
   "cell_type": "code",
   "execution_count": 11,
   "metadata": {},
   "outputs": [
    {
     "data": {
      "text/plain": [
       "<Logger exception experiement (INFO)>"
      ]
     },
     "execution_count": 11,
     "metadata": {},
     "output_type": "execute_result"
    }
   ],
   "source": [
    "logger"
   ]
  },
  {
   "cell_type": "code",
   "execution_count": null,
   "metadata": {},
   "outputs": [
    {
     "ename": "DocumentPortalException",
     "evalue": "division by zero (File: /var/folders/ww/k380npk97pj552dj44y8_z1c0000gn/T/ipykernel_69789/4154156329.py, Line: 18)\nTraceback: Traceback (most recent call last):\n  File \"/var/folders/ww/k380npk97pj552dj44y8_z1c0000gn/T/ipykernel_69789/4154156329.py\", line 18, in <module>\n    a = 1/0\nZeroDivisionError: division by zero\n",
     "output_type": "error",
     "traceback": [
      "\u001b[0;31m---------------------------------------------------------------------------\u001b[0m",
      "\u001b[0;31mZeroDivisionError\u001b[0m                         Traceback (most recent call last)",
      "Cell \u001b[0;32mIn[13], line 18\u001b[0m\n\u001b[1;32m     17\u001b[0m \u001b[38;5;28;01mtry\u001b[39;00m:\n\u001b[0;32m---> 18\u001b[0m     a \u001b[38;5;241m=\u001b[39m \u001b[38;5;241;43m1\u001b[39;49m\u001b[38;5;241;43m/\u001b[39;49m\u001b[38;5;241;43m0\u001b[39;49m\n\u001b[1;32m     19\u001b[0m     \u001b[38;5;28mprint\u001b[39m(a)\n",
      "\u001b[0;31mZeroDivisionError\u001b[0m: division by zero",
      "\nDuring handling of the above exception, another exception occurred:\n",
      "\u001b[0;31mDocumentPortalException\u001b[0m                   Traceback (most recent call last)",
      "Cell \u001b[0;32mIn[13], line 23\u001b[0m\n\u001b[1;32m     21\u001b[0m app_exc\u001b[38;5;241m=\u001b[39mDocumentPortalException(e,sys)\n\u001b[1;32m     22\u001b[0m logger\u001b[38;5;241m.\u001b[39merror(app_exc)\n\u001b[0;32m---> 23\u001b[0m \u001b[38;5;28;01mraise\u001b[39;00m app_exc\n",
      "\u001b[0;31mDocumentPortalException\u001b[0m: division by zero (File: /var/folders/ww/k380npk97pj552dj44y8_z1c0000gn/T/ipykernel_69789/4154156329.py, Line: 18)\nTraceback: Traceback (most recent call last):\n  File \"/var/folders/ww/k380npk97pj552dj44y8_z1c0000gn/T/ipykernel_69789/4154156329.py\", line 18, in <module>\n    a = 1/0\nZeroDivisionError: division by zero\n"
     ]
    }
   ],
   "source": [
    "\n",
    "import sys\n",
    "import traceback\n",
    "from doc_logging.custom_logger import CustomerLogger\n",
    "\n",
    "class DocumentPortalException(Exception):\n",
    "    def __init__(self, error_msg, error_details:sys):\n",
    "        _,_,exec_tb=error_details.exc_info()\n",
    "        self.current_exec_file_name = exec_tb.tb_frame.f_code.co_filename\n",
    "        self.line_no = exec_tb.tb_lineno\n",
    "        self.error_message = str(error_msg)\n",
    "        self.traceback_str = ''.join(traceback.format_exception(*error_details.exc_info()))\n",
    "    \n",
    "    def __str__(self):\n",
    "                return f\"{self.error_message} (File: {self.current_exec_file_name}, Line: {self.line_no})\\nTraceback: {self.traceback_str}\"\n",
    "        \n",
    "if __name__== \"__main__\":\n",
    "    try:\n",
    "        a = 1/0\n",
    "        print(a)\n",
    "    except Exception as e:\n",
    "        app_exc=DocumentPortalException(e,sys)\n",
    "        logger.error(app_exc)\n",
    "        raise app_exc"
   ]
  },
  {
   "cell_type": "code",
   "execution_count": null,
   "metadata": {},
   "outputs": [],
   "source": []
  },
  {
   "cell_type": "code",
   "execution_count": null,
   "metadata": {},
   "outputs": [],
   "source": [
    "\n"
   ]
  }
 ],
 "metadata": {
  "kernelspec": {
   "display_name": "Python 3",
   "language": "python",
   "name": "python3"
  },
  "language_info": {
   "codemirror_mode": {
    "name": "ipython",
    "version": 3
   },
   "file_extension": ".py",
   "mimetype": "text/x-python",
   "name": "python",
   "nbconvert_exporter": "python",
   "pygments_lexer": "ipython3",
   "version": "3.10.18"
  }
 },
 "nbformat": 4,
 "nbformat_minor": 2
}
