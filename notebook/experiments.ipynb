{
 "cells": [
  {
   "cell_type": "code",
   "execution_count": 2,
   "metadata": {},
   "outputs": [
    {
     "name": "stdout",
     "output_type": "stream",
     "text": [
      "hello\n"
     ]
    }
   ],
   "source": [
    "print(\"hello\")"
   ]
  },
  {
   "cell_type": "code",
   "execution_count": 3,
   "metadata": {},
   "outputs": [
    {
     "name": "stdout",
     "output_type": "stream",
     "text": [
      "Package                      Version     Editable project location\n",
      "---------------------------- ----------- ------------------------------------------------------------\n",
      "annotated-types              0.7.0\n",
      "anyio                        4.9.0\n",
      "appnope                      0.1.4\n",
      "asttokens                    3.0.0\n",
      "async-timeout                4.0.3\n",
      "cachetools                   5.5.2\n",
      "certifi                      2025.7.14\n",
      "charset-normalizer           3.4.2\n",
      "comm                         0.2.2\n",
      "debugpy                      1.8.7\n",
      "decorator                    5.2.1\n",
      "distro                       1.9.0\n",
      "documentation-generator      0.1.0       /Users/admin/anil_reddaboina/ai_learning/document_processing\n",
      "exceptiongroup               1.3.0\n",
      "executing                    2.2.0\n",
      "filetype                     1.2.0\n",
      "google-ai-generativelanguage 0.6.18\n",
      "google-api-core              2.25.1\n",
      "google-auth                  2.40.3\n",
      "googleapis-common-protos     1.70.0\n",
      "greenlet                     3.2.3\n",
      "groq                         0.30.0\n",
      "grpcio                       1.73.1\n",
      "grpcio-status                1.73.1\n",
      "h11                          0.16.0\n",
      "httpcore                     1.0.9\n",
      "httpx                        0.28.1\n",
      "idna                         3.10\n",
      "importlib_metadata           8.7.0\n",
      "ipykernel                    6.29.5\n",
      "ipython                      8.37.0\n",
      "jedi                         0.19.2\n",
      "jsonpatch                    1.33\n",
      "jsonpointer                  3.0.0\n",
      "jupyter_client               8.6.3\n",
      "jupyter_core                 5.8.1\n",
      "langchain                    0.3.26\n",
      "langchain-core               0.3.69\n",
      "langchain-google-genai       2.1.8\n",
      "langchain-groq               0.3.6\n",
      "langchain-text-splitters     0.3.8\n",
      "langsmith                    0.4.8\n",
      "matplotlib-inline            0.1.7\n",
      "nest_asyncio                 1.6.0\n",
      "orjson                       3.11.0\n",
      "packaging                    25.0\n",
      "parso                        0.8.4\n",
      "pexpect                      4.9.0\n",
      "pickleshare                  0.7.5\n",
      "pip                          25.1\n",
      "platformdirs                 4.3.8\n",
      "prompt_toolkit               3.0.51\n",
      "proto-plus                   1.26.1\n",
      "protobuf                     6.31.1\n",
      "psutil                       7.0.0\n",
      "ptyprocess                   0.7.0\n",
      "pure_eval                    0.2.3\n",
      "pyasn1                       0.6.1\n",
      "pyasn1_modules               0.4.2\n",
      "pydantic                     2.11.7\n",
      "pydantic_core                2.33.2\n",
      "Pygments                     2.19.2\n",
      "python-dateutil              2.9.0.post0\n",
      "python-dotenv                1.1.1\n",
      "PyYAML                       6.0.2\n",
      "pyzmq                        26.2.0\n",
      "requests                     2.32.4\n",
      "requests-toolbelt            1.0.0\n",
      "rsa                          4.9.1\n",
      "setuptools                   78.1.1\n",
      "six                          1.17.0\n",
      "sniffio                      1.3.1\n",
      "SQLAlchemy                   2.0.41\n",
      "stack_data                   0.6.3\n",
      "tenacity                     9.1.2\n",
      "tornado                      6.5.1\n",
      "traitlets                    5.14.3\n",
      "typing_extensions            4.14.1\n",
      "typing-inspection            0.4.1\n",
      "urllib3                      2.5.0\n",
      "wcwidth                      0.2.13\n",
      "wheel                        0.45.1\n",
      "zipp                         3.23.0\n",
      "zstandard                    0.23.0\n",
      "Note: you may need to restart the kernel to use updated packages.\n"
     ]
    }
   ],
   "source": [
    "pip list"
   ]
  },
  {
   "cell_type": "code",
   "execution_count": 4,
   "metadata": {},
   "outputs": [],
   "source": [
    "from langchain_groq import ChatGroq"
   ]
  },
  {
   "cell_type": "code",
   "execution_count": 5,
   "metadata": {},
   "outputs": [],
   "source": [
    "from dotenv import load_dotenv"
   ]
  },
  {
   "cell_type": "code",
   "execution_count": 6,
   "metadata": {},
   "outputs": [
    {
     "data": {
      "text/plain": [
       "True"
      ]
     },
     "execution_count": 6,
     "metadata": {},
     "output_type": "execute_result"
    }
   ],
   "source": [
    "load_dotenv()"
   ]
  },
  {
   "cell_type": "code",
   "execution_count": 7,
   "metadata": {},
   "outputs": [],
   "source": [
    "model = ChatGroq(model=\"qwen/qwen3-32b\")"
   ]
  },
  {
   "cell_type": "code",
   "execution_count": 8,
   "metadata": {},
   "outputs": [
    {
     "data": {
      "text/plain": [
       "AIMessage(content='<think>\\nOkay, so I need to figure out what the capital of Telangana is. Let me start by recalling what I know about Indian states. Telangana is one of the states in India, right? I remember that it\\'s a relatively new state, having been formed in 2014 when it was carved out from Andhra Pradesh. So maybe the capital is a city that was previously part of Andhra Pradesh\\'s capital?\\n\\nWait, the capital of Andhra Pradesh is Amaravati, if I\\'m not mistaken. But when Telangana became a separate state, they might have chosen a different capital. I think Hyderabad is a major city in the region. Hyderabad is known for being a hub for IT companies and is a significant cultural and economic center. But was it the capital before Telangana became a state?\\n\\nLet me think. Before 2014, Hyderabad was the capital of the united Andhra Pradesh. When Telangana was separated, there was some discussion about whether Hyderabad would be the capital of Telangana or if a new capital would be built. I remember reading that there was a proposal to build a new capital city called Amravati or something similar, but maybe that changed. Alternatively, maybe Hyderabad was chosen as the capital of Telangana, and Amaravati became the capital of the new Andhra Pradesh.\\n\\nWait, actually, I think after the separation, Telangana retained Hyderabad as its capital initially, while Andhra Pradesh decided to start building a new capital, which is Amaravati. But then, due to some controversies or delays, maybe Amaravati wasn\\'t completed, and Andhra Pradesh shifted to another city? Or perhaps Hyderabad remained the capital of Telangana. \\n\\nI should verify. Let me try to recall. Yes, the capital of Telangana is Hyderabad. But there was a plan to move the capital to a new city called Secunderabad? Or maybe there was a proposal for a new capital called \"Amravati\" for Telangana? Wait, no, I think Amravati was for Andhra Pradesh. \\n\\nWait, confusion arises. Let me get this straight. When Telangana became a state in 2014, the government was initially based in Hyderabad. There was a proposal to build a new capital called \"Hyderabad Metropolitan Region\" or maybe another name, but it seems like Hyderabad itself is the capital. Alternatively, there might be a plan to develop a new capital in the future. \\n\\nI think the current capital is Hyderabad. But I need to make sure there hasn\\'t been a recent change. Let me check my memory. Yes, as of now, the capital of Telangana is Hyderabad. There were plans to build a new capital, but they haven\\'t been implemented yet. So the answer should be Hyderabad.\\n</think>\\n\\nThe capital of Telangana is **Hyderabad**. \\n\\n**Key Details:**\\n- **History:** Hyderabad served as the capital of the united Andhra Pradesh before Telangana\\'s formation in 2014. After the bifurcation, it was designated as the capital of Telangana.\\n- **Context:** While there were discussions about constructing a new capital for Telangana (proposed names included \"Hyderabad Metropolitan Region\" or other alternatives), no new capital has been established or completed as of now. Hyderabad remains the administrative and political center of the state.\\n- **Cultural/Economic Significance:** Hyderabad is a major economic, cultural, and technological hub in India, known for its IT industry, historical landmarks, and diverse heritage.\\n\\nThus, **Hyderabad** is the current and recognized capital of Telangana.', additional_kwargs={}, response_metadata={'token_usage': {'completion_tokens': 757, 'prompt_tokens': 17, 'total_tokens': 774, 'completion_time': 1.8274977140000002, 'prompt_time': 0.000473563, 'queue_time': 0.051135072, 'total_time': 1.827971277}, 'model_name': 'qwen/qwen3-32b', 'system_fingerprint': 'fp_f17c2eb555', 'service_tier': 'on_demand', 'finish_reason': 'stop', 'logprobs': None}, id='run--eb2d1b62-df6c-405f-89b9-d65ebc24adb3-0', usage_metadata={'input_tokens': 17, 'output_tokens': 757, 'total_tokens': 774})"
      ]
     },
     "execution_count": 8,
     "metadata": {},
     "output_type": "execute_result"
    }
   ],
   "source": [
    "model.invoke(\"what is the capital of Telangana?\")"
   ]
  },
  {
   "cell_type": "code",
   "execution_count": 9,
   "metadata": {},
   "outputs": [],
   "source": [
    "from langchain_google_genai import GoogleGenerativeAIEmbeddings"
   ]
  },
  {
   "cell_type": "code",
   "execution_count": 10,
   "metadata": {},
   "outputs": [],
   "source": [
    "embedding_model=GoogleGenerativeAIEmbeddings(model=\"models/embedding-001\")"
   ]
  },
  {
   "cell_type": "code",
   "execution_count": null,
   "metadata": {},
   "outputs": [],
   "source": [
    "embedding_model.embed_query(\"What is the capital of France?\")"
   ]
  },
  {
   "cell_type": "markdown",
   "metadata": {},
   "source": [
    "## Data Ingestion"
   ]
  },
  {
   "cell_type": "code",
   "execution_count": 12,
   "metadata": {},
   "outputs": [],
   "source": [
    "from langchain.document_loaders import PyPDFLoader"
   ]
  },
  {
   "cell_type": "code",
   "execution_count": 13,
   "metadata": {},
   "outputs": [],
   "source": [
    "from langchain.text_splitter import RecursiveCharacterTextSplitter"
   ]
  },
  {
   "cell_type": "code",
   "execution_count": 18,
   "metadata": {},
   "outputs": [],
   "source": [
    "import os\n",
    "file_path = os.path.join(os.getcwd(), \"data\", \"rahul_resumt.pdf\")"
   ]
  },
  {
   "cell_type": "code",
   "execution_count": 20,
   "metadata": {},
   "outputs": [
    {
     "data": {
      "text/plain": [
       "'/Users/admin/anil_reddaboina/ai_learning/document_processing/notebook/data/rahul_resumt.pdf'"
      ]
     },
     "execution_count": 20,
     "metadata": {},
     "output_type": "execute_result"
    }
   ],
   "source": [
    "file_path"
   ]
  },
  {
   "cell_type": "code",
   "execution_count": 21,
   "metadata": {},
   "outputs": [],
   "source": [
    "# /Users/admin/anil_reddaboina/ai_learning/document_processing/notebook/data/rahul_resume.pdf\n",
    "loader=PyPDFLoader(\"/Users/admin/anil_reddaboina/ai_learning/document_processing/notebook/data/Thoughtworks Employee Benefit Manual 2024-25 (3).pdf\")"
   ]
  },
  {
   "cell_type": "code",
   "execution_count": 24,
   "metadata": {},
   "outputs": [],
   "source": [
    "documents = loader.load()"
   ]
  },
  {
   "cell_type": "code",
   "execution_count": 25,
   "metadata": {},
   "outputs": [
    {
     "data": {
      "text/plain": [
       "38"
      ]
     },
     "execution_count": 25,
     "metadata": {},
     "output_type": "execute_result"
    }
   ],
   "source": [
    "len(documents)"
   ]
  },
  {
   "cell_type": "code",
   "execution_count": 29,
   "metadata": {},
   "outputs": [],
   "source": [
    "#chunking the documents using RecursiveCharacterTextSplitter\n",
    "from langchain.text_splitter import RecursiveCharacterTextSplitter\n",
    "\n",
    "text_spitter = RecursiveCharacterTextSplitter(\n",
    "    chunk_size=500,\n",
    "    chunk_overlap=100,\n",
    "    length_function=len,\n",
    "    )"
   ]
  },
  {
   "cell_type": "code",
   "execution_count": 30,
   "metadata": {},
   "outputs": [],
   "source": [
    "docs = text_spitter.split_documents(documents)"
   ]
  },
  {
   "cell_type": "code",
   "execution_count": 31,
   "metadata": {},
   "outputs": [
    {
     "data": {
      "text/plain": [
       "111"
      ]
     },
     "execution_count": 31,
     "metadata": {},
     "output_type": "execute_result"
    }
   ],
   "source": [
    "len(docs)"
   ]
  },
  {
   "cell_type": "code",
   "execution_count": 33,
   "metadata": {},
   "outputs": [
    {
     "data": {
      "text/plain": [
       "{'producer': 'Microsoft® PowerPoint® for Microsoft 365',\n",
       " 'creator': 'Microsoft® PowerPoint® for Microsoft 365',\n",
       " 'creationdate': '2024-11-20T18:17:08+05:30',\n",
       " 'msip_label_88914ebd-7e6c-4e12-a031-a9906be2db14_enabled': 'true',\n",
       " 'msip_label_88914ebd-7e6c-4e12-a031-a9906be2db14_setdate': '2021-07-12T10:31:05Z',\n",
       " 'msip_label_88914ebd-7e6c-4e12-a031-a9906be2db14_method': 'Standard',\n",
       " 'msip_label_88914ebd-7e6c-4e12-a031-a9906be2db14_name': 'AMD Official Use Only-AIP 2.0',\n",
       " 'msip_label_88914ebd-7e6c-4e12-a031-a9906be2db14_siteid': '3dd8961f-e488-4e60-8e11-a82d994e183d',\n",
       " 'msip_label_88914ebd-7e6c-4e12-a031-a9906be2db14_actionid': 'fd5b1a93-06af-43ac-9429-f2fb3b5aff44',\n",
       " 'msip_label_88914ebd-7e6c-4e12-a031-a9906be2db14_contentbits': '1',\n",
       " 'msip_label_38f1469a-2c2a-4aee-b92b-090d4c5468ff_enabled': 'true',\n",
       " 'msip_label_38f1469a-2c2a-4aee-b92b-090d4c5468ff_setdate': '2022-05-06T03:44:46Z',\n",
       " 'msip_label_38f1469a-2c2a-4aee-b92b-090d4c5468ff_method': 'Standard',\n",
       " 'msip_label_38f1469a-2c2a-4aee-b92b-090d4c5468ff_name': 'Confidential - Unmarked',\n",
       " 'msip_label_38f1469a-2c2a-4aee-b92b-090d4c5468ff_siteid': '2a6e6092-73e4-4752-b1a5-477a17f5056d',\n",
       " 'msip_label_38f1469a-2c2a-4aee-b92b-090d4c5468ff_actionid': '7fcbe8df-a888-492d-bad8-5003c9f18eac',\n",
       " 'msip_label_38f1469a-2c2a-4aee-b92b-090d4c5468ff_contentbits': '0',\n",
       " 'msip_label_0d111c4b-49e3-4225-99d5-171502db0107_enabled': 'true',\n",
       " 'msip_label_0d111c4b-49e3-4225-99d5-171502db0107_setdate': '2022-05-28T15:25:29Z',\n",
       " 'msip_label_0d111c4b-49e3-4225-99d5-171502db0107_method': 'Standard',\n",
       " 'msip_label_0d111c4b-49e3-4225-99d5-171502db0107_name': 'Authorized Use',\n",
       " 'msip_label_0d111c4b-49e3-4225-99d5-171502db0107_siteid': 'bcfa3e87-841e-48c7-983b-584159dd1a69',\n",
       " 'msip_label_0d111c4b-49e3-4225-99d5-171502db0107_actionid': 'bcf33de6-6ea3-48e8-a4b9-4fcce0bbcf68',\n",
       " 'msip_label_0d111c4b-49e3-4225-99d5-171502db0107_contentbits': '0',\n",
       " 'title': 'PowerPoint Presentation',\n",
       " 'author': 'Latke, Kiran',\n",
       " 'moddate': '2024-11-20T18:17:08+05:30',\n",
       " 'source': '/Users/admin/anil_reddaboina/ai_learning/document_processing/notebook/data/Thoughtworks Employee Benefit Manual 2024-25 (3).pdf',\n",
       " 'total_pages': 38,\n",
       " 'page': 0,\n",
       " 'page_label': '1'}"
      ]
     },
     "execution_count": 33,
     "metadata": {},
     "output_type": "execute_result"
    }
   ],
   "source": [
    "docs[0].metadata"
   ]
  },
  {
   "cell_type": "code",
   "execution_count": 35,
   "metadata": {},
   "outputs": [
    {
     "data": {
      "text/plain": [
       "'Employee Insurance \\nBenefits Manual\\n2024-25'"
      ]
     },
     "execution_count": 35,
     "metadata": {},
     "output_type": "execute_result"
    }
   ],
   "source": [
    "content = docs[0].page_content\n",
    "content"
   ]
  },
  {
   "cell_type": "code",
   "execution_count": null,
   "metadata": {},
   "outputs": [],
   "source": []
  }
 ],
 "metadata": {
  "kernelspec": {
   "display_name": "Python 3",
   "language": "python",
   "name": "python3"
  },
  "language_info": {
   "codemirror_mode": {
    "name": "ipython",
    "version": 3
   },
   "file_extension": ".py",
   "mimetype": "text/x-python",
   "name": "python",
   "nbconvert_exporter": "python",
   "pygments_lexer": "ipython3",
   "version": "3.10.18"
  }
 },
 "nbformat": 4,
 "nbformat_minor": 2
}
