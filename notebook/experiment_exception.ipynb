{
 "cells": [
  {
   "cell_type": "code",
   "execution_count": 4,
   "metadata": {},
   "outputs": [],
   "source": [
    "from doc_logging.custom_logger import CustomerLogger"
   ]
  },
  {
   "cell_type": "code",
   "execution_count": 10,
   "metadata": {},
   "outputs": [
    {
     "name": "stdout",
     "output_type": "stream",
     "text": [
      "custom logger LOG_FILE_PATH  /Users/admin/anil_reddaboina/ai_learning/document_processing/notebook/logs/07_26_2025_16_01_06.log\n"
     ]
    }
   ],
   "source": [
    "logger = CustomerLogger().get_logger(\"exception experiement\")"
   ]
  },
  {
   "cell_type": "code",
   "execution_count": 11,
   "metadata": {},
   "outputs": [
    {
     "data": {
      "text/plain": [
       "<Logger exception experiement (INFO)>"
      ]
     },
     "execution_count": 11,
     "metadata": {},
     "output_type": "execute_result"
    }
   ],
   "source": [
    "logger"
   ]
  },
  {
   "cell_type": "code",
   "execution_count": 12,
   "metadata": {},
   "outputs": [
    {
     "name": "stderr",
     "output_type": "stream",
     "text": [
      "--- Logging error ---\n",
      "Traceback (most recent call last):\n",
      "  File \"/var/folders/ww/k380npk97pj552dj44y8_z1c0000gn/T/ipykernel_69789/3108192539.py\", line 18, in <module>\n",
      "    a = 1/0\n",
      "ZeroDivisionError: division by zero\n",
      "\n",
      "During handling of the above exception, another exception occurred:\n",
      "\n",
      "Traceback (most recent call last):\n",
      "  File \"/Users/admin/anil_reddaboina/ai_learning/document_processing/ailearning/lib/python3.10/logging/__init__.py\", line 1100, in emit\n",
      "    msg = self.format(record)\n",
      "  File \"/Users/admin/anil_reddaboina/ai_learning/document_processing/ailearning/lib/python3.10/logging/__init__.py\", line 943, in format\n",
      "    return fmt.format(record)\n",
      "  File \"/Users/admin/anil_reddaboina/ai_learning/document_processing/ailearning/lib/python3.10/logging/__init__.py\", line 678, in format\n",
      "    record.message = record.getMessage()\n",
      "  File \"/Users/admin/anil_reddaboina/ai_learning/document_processing/ailearning/lib/python3.10/logging/__init__.py\", line 368, in getMessage\n",
      "    msg = msg % self.args\n",
      "TypeError: not all arguments converted during string formatting\n",
      "Call stack:\n",
      "  File \"/Users/admin/anil_reddaboina/ai_learning/document_processing/ailearning/lib/python3.10/runpy.py\", line 196, in _run_module_as_main\n",
      "    return _run_code(code, main_globals, None,\n",
      "  File \"/Users/admin/anil_reddaboina/ai_learning/document_processing/ailearning/lib/python3.10/runpy.py\", line 86, in _run_code\n",
      "    exec(code, run_globals)\n",
      "  File \"/Users/admin/anil_reddaboina/ai_learning/document_processing/ailearning/lib/python3.10/site-packages/ipykernel_launcher.py\", line 18, in <module>\n",
      "    app.launch_new_instance()\n",
      "  File \"/Users/admin/anil_reddaboina/ai_learning/document_processing/ailearning/lib/python3.10/site-packages/traitlets/config/application.py\", line 1075, in launch_instance\n",
      "    app.start()\n",
      "  File \"/Users/admin/anil_reddaboina/ai_learning/document_processing/ailearning/lib/python3.10/site-packages/ipykernel/kernelapp.py\", line 739, in start\n",
      "    self.io_loop.start()\n",
      "  File \"/Users/admin/anil_reddaboina/ai_learning/document_processing/ailearning/lib/python3.10/site-packages/tornado/platform/asyncio.py\", line 211, in start\n",
      "    self.asyncio_loop.run_forever()\n",
      "  File \"/Users/admin/anil_reddaboina/ai_learning/document_processing/ailearning/lib/python3.10/asyncio/base_events.py\", line 603, in run_forever\n",
      "    self._run_once()\n",
      "  File \"/Users/admin/anil_reddaboina/ai_learning/document_processing/ailearning/lib/python3.10/asyncio/base_events.py\", line 1909, in _run_once\n",
      "    handle._run()\n",
      "  File \"/Users/admin/anil_reddaboina/ai_learning/document_processing/ailearning/lib/python3.10/asyncio/events.py\", line 80, in _run\n",
      "    self._context.run(self._callback, *self._args)\n",
      "  File \"/Users/admin/anil_reddaboina/ai_learning/document_processing/ailearning/lib/python3.10/site-packages/ipykernel/kernelbase.py\", line 545, in dispatch_queue\n",
      "    await self.process_one()\n",
      "  File \"/Users/admin/anil_reddaboina/ai_learning/document_processing/ailearning/lib/python3.10/site-packages/ipykernel/kernelbase.py\", line 534, in process_one\n",
      "    await dispatch(*args)\n",
      "  File \"/Users/admin/anil_reddaboina/ai_learning/document_processing/ailearning/lib/python3.10/site-packages/ipykernel/kernelbase.py\", line 437, in dispatch_shell\n",
      "    await result\n",
      "  File \"/Users/admin/anil_reddaboina/ai_learning/document_processing/ailearning/lib/python3.10/site-packages/ipykernel/ipkernel.py\", line 362, in execute_request\n",
      "    await super().execute_request(stream, ident, parent)\n",
      "  File \"/Users/admin/anil_reddaboina/ai_learning/document_processing/ailearning/lib/python3.10/site-packages/ipykernel/kernelbase.py\", line 778, in execute_request\n",
      "    reply_content = await reply_content\n",
      "  File \"/Users/admin/anil_reddaboina/ai_learning/document_processing/ailearning/lib/python3.10/site-packages/ipykernel/ipkernel.py\", line 449, in do_execute\n",
      "    res = shell.run_cell(\n",
      "  File \"/Users/admin/anil_reddaboina/ai_learning/document_processing/ailearning/lib/python3.10/site-packages/ipykernel/zmqshell.py\", line 549, in run_cell\n",
      "    return super().run_cell(*args, **kwargs)\n",
      "  File \"/Users/admin/anil_reddaboina/ai_learning/document_processing/ailearning/lib/python3.10/site-packages/IPython/core/interactiveshell.py\", line 3077, in run_cell\n",
      "    result = self._run_cell(\n",
      "  File \"/Users/admin/anil_reddaboina/ai_learning/document_processing/ailearning/lib/python3.10/site-packages/IPython/core/interactiveshell.py\", line 3132, in _run_cell\n",
      "    result = runner(coro)\n",
      "  File \"/Users/admin/anil_reddaboina/ai_learning/document_processing/ailearning/lib/python3.10/site-packages/IPython/core/async_helpers.py\", line 128, in _pseudo_sync_runner\n",
      "    coro.send(None)\n",
      "  File \"/Users/admin/anil_reddaboina/ai_learning/document_processing/ailearning/lib/python3.10/site-packages/IPython/core/interactiveshell.py\", line 3336, in run_cell_async\n",
      "    has_raised = await self.run_ast_nodes(code_ast.body, cell_name,\n",
      "  File \"/Users/admin/anil_reddaboina/ai_learning/document_processing/ailearning/lib/python3.10/site-packages/IPython/core/interactiveshell.py\", line 3519, in run_ast_nodes\n",
      "    if await self.run_code(code, result, async_=asy):\n",
      "  File \"/Users/admin/anil_reddaboina/ai_learning/document_processing/ailearning/lib/python3.10/site-packages/IPython/core/interactiveshell.py\", line 3579, in run_code\n",
      "    exec(code_obj, self.user_global_ns, self.user_ns)\n",
      "  File \"/var/folders/ww/k380npk97pj552dj44y8_z1c0000gn/T/ipykernel_69789/3108192539.py\", line 22, in <module>\n",
      "    logger.error(\"error \", app_exc)\n",
      "Message: 'error '\n",
      "Arguments: (DocumentPortalException(ZeroDivisionError('division by zero'), <module 'sys' (built-in)>),)\n"
     ]
    },
    {
     "ename": "DocumentPortalException",
     "evalue": "division by zero (File: /var/folders/ww/k380npk97pj552dj44y8_z1c0000gn/T/ipykernel_69789/3108192539.py, Line: 18)\nTraceback: Traceback (most recent call last):\n  File \"/var/folders/ww/k380npk97pj552dj44y8_z1c0000gn/T/ipykernel_69789/3108192539.py\", line 18, in <module>\n    a = 1/0\nZeroDivisionError: division by zero\n",
     "output_type": "error",
     "traceback": [
      "\u001b[0;31m---------------------------------------------------------------------------\u001b[0m",
      "\u001b[0;31mZeroDivisionError\u001b[0m                         Traceback (most recent call last)",
      "Cell \u001b[0;32mIn[12], line 18\u001b[0m\n\u001b[1;32m     17\u001b[0m \u001b[38;5;28;01mtry\u001b[39;00m:\n\u001b[0;32m---> 18\u001b[0m     a \u001b[38;5;241m=\u001b[39m \u001b[38;5;241;43m1\u001b[39;49m\u001b[38;5;241;43m/\u001b[39;49m\u001b[38;5;241;43m0\u001b[39;49m\n\u001b[1;32m     19\u001b[0m     \u001b[38;5;28mprint\u001b[39m(a)\n",
      "\u001b[0;31mZeroDivisionError\u001b[0m: division by zero",
      "\nDuring handling of the above exception, another exception occurred:\n",
      "\u001b[0;31mDocumentPortalException\u001b[0m                   Traceback (most recent call last)",
      "Cell \u001b[0;32mIn[12], line 23\u001b[0m\n\u001b[1;32m     21\u001b[0m app_exc\u001b[38;5;241m=\u001b[39mDocumentPortalException(e,sys)\n\u001b[1;32m     22\u001b[0m logger\u001b[38;5;241m.\u001b[39merror(\u001b[38;5;124m\"\u001b[39m\u001b[38;5;124merror \u001b[39m\u001b[38;5;124m\"\u001b[39m, app_exc)\n\u001b[0;32m---> 23\u001b[0m \u001b[38;5;28;01mraise\u001b[39;00m app_exc\n",
      "\u001b[0;31mDocumentPortalException\u001b[0m: division by zero (File: /var/folders/ww/k380npk97pj552dj44y8_z1c0000gn/T/ipykernel_69789/3108192539.py, Line: 18)\nTraceback: Traceback (most recent call last):\n  File \"/var/folders/ww/k380npk97pj552dj44y8_z1c0000gn/T/ipykernel_69789/3108192539.py\", line 18, in <module>\n    a = 1/0\nZeroDivisionError: division by zero\n"
     ]
    }
   ],
   "source": [
    "\n",
    "import sys\n",
    "import traceback\n",
    "from doc_logging.custom_logger import CustomerLogger\n",
    "\n",
    "class DocumentPortalException(Exception):\n",
    "    def __init__(self, error_msg, error_details:sys):\n",
    "        _,_,exec_tb=error_details.exc_info()\n",
    "        self.current_exec_file_name = exec_tb.tb_frame.f_code.co_filename\n",
    "        self.line_no = exec_tb.tb_lineno\n",
    "        self.error_message = str(error_msg)\n",
    "        self.traceback_str = ''.join(traceback.format_exception(*error_details.exc_info()))\n",
    "    \n",
    "    def __str__(self):\n",
    "                return f\"{self.error_message} (File: {self.current_exec_file_name}, Line: {self.line_no})\\nTraceback: {self.traceback_str}\"\n",
    "        \n",
    "if __name__== \"__main__\":\n",
    "    try:\n",
    "        a = 1/0\n",
    "        print(a)\n",
    "    except Exception as e:\n",
    "        app_exc=DocumentPortalException(e,sys)\n",
    "        logger.error(\"error \", app_exc)\n",
    "        raise app_exc"
   ]
  },
  {
   "cell_type": "code",
   "execution_count": null,
   "metadata": {},
   "outputs": [],
   "source": []
  },
  {
   "cell_type": "code",
   "execution_count": null,
   "metadata": {},
   "outputs": [],
   "source": [
    "\n"
   ]
  }
 ],
 "metadata": {
  "kernelspec": {
   "display_name": "Python 3",
   "language": "python",
   "name": "python3"
  },
  "language_info": {
   "codemirror_mode": {
    "name": "ipython",
    "version": 3
   },
   "file_extension": ".py",
   "mimetype": "text/x-python",
   "name": "python",
   "nbconvert_exporter": "python",
   "pygments_lexer": "ipython3",
   "version": "3.10.18"
  }
 },
 "nbformat": 4,
 "nbformat_minor": 2
}
